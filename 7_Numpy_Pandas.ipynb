{
 "cells": [
  {
   "cell_type": "code",
   "execution_count": 9,
   "id": "a6f3ba9d-2eca-45da-964b-771bc8de48e0",
   "metadata": {},
   "outputs": [
    {
     "name": "stdout",
     "output_type": "stream",
     "text": [
      "Exercise 1:\n",
      "[[ 1  2  3  4  5]\n",
      " [ 6  7  8  9 10]]\n"
     ]
    }
   ],
   "source": [
    "# 7-Numpy_Pandas\n",
    "#Exercise 1: (Score : 1) Create a numpy array containing the numbers from 1 to 10, and then reshape it to a 2x5 matrix. \n",
    "\n",
    "import numpy as np\n",
    "array1=np.arange(1,11).reshape(2,5)\n",
    "print(\"Exercise 1:\")\n",
    "print(array1)\n"
   ]
  },
  {
   "cell_type": "code",
   "execution_count": 15,
   "id": "67200878-0502-45bc-8bd4-555ec1e84981",
   "metadata": {},
   "outputs": [
    {
     "name": "stdout",
     "output_type": "stream",
     "text": [
      "Exercise 2:\n",
      "[ 1  2  3  4  5  6  7  8  9 10 11 12 13 14 15 16 17 18 19 20]\n",
      "[ 6  7  8  9 10 11 12 13 14 15 16]\n"
     ]
    }
   ],
   "source": [
    "\n",
    "#Exercise 2: (Score : 1) Create a numpy array containing the numbers from 1 to 20, and then extract the elements between the 5th and 15th index. \n",
    "\n",
    "print(\"Exercise 2:\")\n",
    "array2=np.arange(1,21)\n",
    "print(array2)\n",
    "res_array2=array2[5:16]\n",
    "print(res_array2)"
   ]
  },
  {
   "cell_type": "code",
   "execution_count": 31,
   "id": "336dc282-175a-4123-b69e-f17ee4ca9df3",
   "metadata": {},
   "outputs": [
    {
     "data": {
      "text/plain": [
       "apples     3\n",
       "bananas    2\n",
       "oranges    1\n",
       "pears      4\n",
       "dtype: int64"
      ]
     },
     "execution_count": 31,
     "metadata": {},
     "output_type": "execute_result"
    }
   ],
   "source": [
    "\n",
    "#Exercise 3: (Score : 2) Create a Pandas series with the following data: {'apples': 3, 'bananas': 2, 'oranges': 1}. \n",
    "#Then, add a new item to the series with the key 'pears' and the value 4. \n",
    "\n",
    "import pandas as pd\n",
    "array3={'apples': 3, 'bananas': 2, 'oranges': 1}\n",
    "p_array1=pd.Series(array3)\n",
    "p_array1['pears']=4\n",
    "p_array1"
   ]
  },
  {
   "cell_type": "code",
   "execution_count": 37,
   "id": "a5c8b793-4b41-445b-8849-e9df71d32224",
   "metadata": {},
   "outputs": [
    {
     "name": "stdout",
     "output_type": "stream",
     "text": [
      "              name  Age Gender\n",
      "0           Sachin   51      M\n",
      "1     Ellyse Perry   34      F\n",
      "2          Ponting   50      M\n",
      "3       Sangakkara   47      M\n",
      "4           Kallis   49      M\n",
      "5             Amla   41      M\n",
      "6      Jayawardane   47      M\n",
      "7       Brian Lara   55      M\n",
      "8  Smriti Mandhana   29      F\n",
      "9      Meg Lanning   33      F\n"
     ]
    }
   ],
   "source": [
    "\n",
    "#Exercise 4: (Score : 2) Create a dataframe with the following columns: name, age, and gender. The dataframe should have 10 rows of data. \n",
    "\n",
    "d_frame1=pd.DataFrame({\n",
    "    'name':['Sachin','Ellyse Perry','Ponting','Sangakkara','Kallis','Amla','Jayawardane','Brian Lara','Smriti Mandhana','Meg Lanning'],\n",
    "    'Age':[51,34,50,47,49,41,47,55,29,33],\n",
    "    'Gender':['M','F','M','M','M','M','M','M','F','F']})\n",
    "print(d_frame1)"
   ]
  },
  {
   "cell_type": "code",
   "execution_count": 39,
   "id": "a9d32825-ef28-4af2-b04c-4f98b9418cd2",
   "metadata": {},
   "outputs": [
    {
     "name": "stdout",
     "output_type": "stream",
     "text": [
      "              name  Age Gender  Occupation\n",
      "0           Sachin   51      M     Manager\n",
      "1     Ellyse Perry   34      F     Analyst\n",
      "2          Ponting   50      M     Manager\n",
      "3       Sangakkara   47      M     Manager\n",
      "4           Kallis   49      M     Analyst\n",
      "5             Amla   41      M  Programmer\n",
      "6      Jayawardane   47      M     Manager\n",
      "7       Brian Lara   55      M     Manager\n",
      "8  Smriti Mandhana   29      F  Programmer\n",
      "9      Meg Lanning   33      F  Programmer\n"
     ]
    }
   ],
   "source": [
    "\n",
    "#Exercise 5: (Score : 1) Add a new column to the data frame created in question 1, called occupation. The values for this column should be Programmer, Manager, and Analyst, corresponding to the rows in the dataframe. \n",
    "\n",
    "occupation=['Manager','Analyst','Manager','Manager','Analyst','Programmer','Manager','Manager','Programmer','Programmer']\n",
    "d_frame1['Occupation']=occupation\n",
    "print(d_frame1)"
   ]
  },
  {
   "cell_type": "code",
   "execution_count": 51,
   "id": "fee1a9e9-58f3-495c-a1b4-c8d5b842c2ed",
   "metadata": {},
   "outputs": [
    {
     "name": "stdout",
     "output_type": "stream",
     "text": [
      "           name  Age Gender  Occupation\n",
      "0        Sachin   51      M     Manager\n",
      "1  Ellyse Perry   34      F     Analyst\n",
      "2       Ponting   50      M     Manager\n",
      "3    Sangakkara   47      M     Manager\n",
      "4        Kallis   49      M     Analyst\n",
      "5          Amla   41      M  Programmer\n",
      "6   Jayawardane   47      M     Manager\n",
      "7    Brian Lara   55      M     Manager\n",
      "9   Meg Lanning   33      F  Programmer\n"
     ]
    }
   ],
   "source": [
    "\n",
    "#Exercise 6: (Score : 1) Select the rows of the dataframe where the age is greater than or equal to 30. \n",
    "d_frame_age_30pl=d_frame1[d_frame1['Age']>=30]\n",
    "print(d_frame_age_30pl)\n"
   ]
  },
  {
   "cell_type": "code",
   "execution_count": 55,
   "id": "dbc17fa6-d076-4eab-bda5-4081676ac881",
   "metadata": {},
   "outputs": [
    {
     "ename": "NameError",
     "evalue": "name 'd_frame' is not defined",
     "output_type": "error",
     "traceback": [
      "\u001b[1;31m---------------------------------------------------------------------------\u001b[0m",
      "\u001b[1;31mNameError\u001b[0m                                 Traceback (most recent call last)",
      "Cell \u001b[1;32mIn[55], line 3\u001b[0m\n\u001b[0;32m      1\u001b[0m \u001b[38;5;66;03m#Exercise 7: (Score : 2) Convert this dataframe to a csv file and read that csv file, finally display the contents.\u001b[39;00m\n\u001b[1;32m----> 3\u001b[0m d_frame\u001b[38;5;241m.\u001b[39mto_csv(\u001b[38;5;124m'\u001b[39m\u001b[38;5;124mdframe1.csv\u001b[39m\u001b[38;5;124m'\u001b[39m,index\u001b[38;5;241m=\u001b[39mfalse)\n\u001b[0;32m      4\u001b[0m new_dframe1\u001b[38;5;241m=\u001b[39mpd\u001b[38;5;241m.\u001b[39mread_csv(\u001b[38;5;124m'\u001b[39m\u001b[38;5;124moutput.csv\u001b[39m\u001b[38;5;124m'\u001b[39m)\n\u001b[0;32m      5\u001b[0m \u001b[38;5;28mprint\u001b[39m(new_dframe1)\n",
      "\u001b[1;31mNameError\u001b[0m: name 'd_frame' is not defined"
     ]
    }
   ],
   "source": [
    "\n",
    "#Exercise 7: (Score : 2) Convert this dataframe to a csv file and read that csv file, finally display the contents.\n",
    "\n",
    "d_frame.to_csv('dframe1.csv',index=false)\n",
    "new_dframe1=pd.read_csv('output.csv')\n",
    "print(new_dframe1)"
   ]
  },
  {
   "cell_type": "code",
   "execution_count": null,
   "id": "d5c034a7-781c-4cd9-9d60-ee2a39a41024",
   "metadata": {},
   "outputs": [],
   "source": []
  }
 ],
 "metadata": {
  "kernelspec": {
   "display_name": "Python 3 (ipykernel)",
   "language": "python",
   "name": "python3"
  },
  "language_info": {
   "codemirror_mode": {
    "name": "ipython",
    "version": 3
   },
   "file_extension": ".py",
   "mimetype": "text/x-python",
   "name": "python",
   "nbconvert_exporter": "python",
   "pygments_lexer": "ipython3",
   "version": "3.12.4"
  }
 },
 "nbformat": 4,
 "nbformat_minor": 5
}
